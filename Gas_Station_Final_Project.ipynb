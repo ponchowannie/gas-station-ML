{
  "cells": [
    {
      "cell_type": "markdown",
      "id": "c78cff3a",
      "metadata": {
        "id": "c78cff3a"
      },
      "source": [
        "\n",
        "<h1>Preprocessing Task</h1>\n",
        "\n"
      ]
    },
    {
      "cell_type": "code",
      "execution_count": null,
      "id": "1e389831",
      "metadata": {
        "id": "1e389831"
      },
      "outputs": [],
      "source": [
        "#import excel file\n",
        "#Path: C:\\Users\\user\\Downloads\\ISE_CoffeeTransaction_April2023.xlsx\n",
        "import pandas as pd\n",
        "from datetime import datetime"
      ]
    },
    {
      "cell_type": "code",
      "execution_count": null,
      "id": "c7a16183",
      "metadata": {
        "id": "c7a16183"
      },
      "outputs": [],
      "source": [
        "#Open all sheets\n",
        "Transaction = pd.read_excel(r'C:\\Users\\user\\Downloads\\ISE_CoffeeTransaction_April2023.xlsx', sheet_name='Transactions')\n",
        "Account = pd.read_excel(r'C:\\Users\\user\\Downloads\\ISE_CoffeeTransaction_April2023.xlsx', sheet_name='Account')\n",
        "Location = pd.read_excel(r'C:\\Users\\user\\Downloads\\ISE_CoffeeTransaction_April2023.xlsx', sheet_name='location')\n",
        "Product = pd.read_excel(r'C:\\Users\\user\\Downloads\\ISE_CoffeeTransaction_April2023.xlsx', sheet_name='Product')"
      ]
    },
    {
      "cell_type": "code",
      "execution_count": null,
      "id": "811d31ce",
      "metadata": {
        "id": "811d31ce"
      },
      "outputs": [],
      "source": [
        "#combine the four sheets into one sheet named df use Transaction as the main sheet which combine with Account using Account_id, Location using Location, Product using product_id\n",
        "df = pd.merge(Transaction, Account, on='Account_id')\n",
        "df = pd.merge(df, Product, on='product_id')"
      ]
    },
    {
      "cell_type": "code",
      "execution_count": null,
      "id": "c32e4a64",
      "metadata": {
        "id": "c32e4a64"
      },
      "outputs": [],
      "source": [
        "#sort df by Account_id, transaction_date, time_to_purchase\n",
        "df = df.sort_values(by=['Account_id', 'transaction_date', 'time_to_purchase'])"
      ]
    },
    {
      "cell_type": "code",
      "execution_count": null,
      "id": "2169bbfb",
      "metadata": {
        "id": "2169bbfb"
      },
      "outputs": [],
      "source": [
        "#drop the columns which are not needed\n",
        "df = df.drop(['product_id', 'Location'], axis=1)\n",
        "df = df.drop(['Unnamed: 3'], axis=1)"
      ]
    },
    {
      "cell_type": "code",
      "execution_count": null,
      "id": "fc23f9bf",
      "metadata": {
        "id": "fc23f9bf"
      },
      "outputs": [],
      "source": [
        "#Change the nan value in column gas_type to no gas\n",
        "df['gas_type'] = df['gas_type'].fillna('no gas')\n",
        "#change registration_date column to datetime format and column name to membership_start_date\n",
        "df['transaction_date'] = pd.to_datetime(df['transaction_date'])\n",
        "df = df.rename(columns={'Register Date': 'membership_start_date'})\n",
        "#Change the nan value in column membership_start_date to no membership\n",
        "df['membership_start_date'] = df['membership_start_date'].fillna('no membership')"
      ]
    },
    {
      "cell_type": "code",
      "execution_count": null,
      "id": "dd7ca613",
      "metadata": {
        "id": "dd7ca613"
      },
      "outputs": [],
      "source": [
        "#add another column which is time of the day like morning, afternoon, evening, night\n",
        "df['time_of_the_day'] = df['time_to_purchase'].apply(lambda x: 'morning' if x < datetime.time(datetime.strptime('12:00:00', '%H:%M:%S')) else ('afternoon' if datetime.time(datetime.strptime('12:00:00', '%H:%M:%S')) <= x < datetime.time(datetime.strptime('18:00:00', '%H:%M:%S')) else ('evening' if datetime.time(datetime.strptime('18:00:00', '%H:%M:%S')) <= x < datetime.time(datetime.strptime('23:59:59', '%H:%M:%S')) else 'night')))"
      ]
    },
    {
      "cell_type": "markdown",
      "id": "78762c81",
      "metadata": {
        "id": "78762c81"
      },
      "source": [
        "\n",
        "<h1>First Model (Correlation analysis)</h1>"
      ]
    },
    {
      "cell_type": "code",
      "execution_count": null,
      "id": "180729e1",
      "metadata": {
        "id": "180729e1",
        "outputId": "ec7a0a7c-d5a3-43a1-97d4-b8d403bc7093"
      },
      "outputs": [
        {
          "name": "stdout",
          "output_type": "stream",
          "text": [
            "Enter the time of the day (morning, afternoon, evening, all day): morning\n",
            "Enter the product name(Cappuccino, Tea, RedBull, Bagel, Espresso, Muffin, Latte, Hot Chocolate, Croissant, Coffee): Tea\n"
          ]
        }
      ],
      "source": [
        "#Recieve input from user as time_of_day\n",
        "time_of_day = input(\"Enter the time of the day (morning, afternoon, evening, all day): \")\n",
        "#recieve input from user as product_recommend\n",
        "product_recommend = input(\"Enter the product name(Cappuccino, Tea, RedBull, Bagel, Espresso, Muffin, Latte, Hot Chocolate, Croissant, Coffee): \")"
      ]
    },
    {
      "cell_type": "code",
      "execution_count": null,
      "id": "6644806d",
      "metadata": {
        "id": "6644806d"
      },
      "outputs": [],
      "source": [
        "#create a user-item matrix\n",
        "if time_of_day == 'all day':\n",
        "    user_item_matrix = pd.pivot_table(df, index='Account_id', columns='product_name', values='transaction_amount', aggfunc='count', fill_value=0)\n",
        "else:\n",
        "    user_item_matrix = pd.pivot_table(df[df['time_of_the_day'] == time_of_day], index='Account_id', columns='product_name', values='transaction_amount', aggfunc='count', fill_value=0)"
      ]
    },
    {
      "cell_type": "code",
      "execution_count": null,
      "id": "3f211821",
      "metadata": {
        "id": "3f211821"
      },
      "outputs": [],
      "source": [
        "#calculate the correlation matrix based on the user-item matrix\n",
        "item_correlation = user_item_matrix.corr(method='pearson')\n",
        "#Choose the product with the most sales\n",
        "target_product = product_recommend\n",
        "#Get the correlation values of the target product with other products\n",
        "target_product_correlations = item_correlation[target_product]"
      ]
    },
    {
      "cell_type": "code",
      "execution_count": null,
      "id": "6c7dfe0f",
      "metadata": {
        "id": "6c7dfe0f"
      },
      "outputs": [],
      "source": [
        "#sort the correlations in descending order\n",
        "recommended_products = target_product_correlations.sort_values(ascending=False)\n",
        "#filter out the target product itself\n",
        "recommended_products = recommended_products.drop(target_product)"
      ]
    },
    {
      "cell_type": "code",
      "execution_count": null,
      "id": "f671af55",
      "metadata": {
        "id": "f671af55",
        "outputId": "a3824003-d48a-48f8-d640-2607ff6372bc"
      },
      "outputs": [
        {
          "name": "stdout",
          "output_type": "stream",
          "text": [
            "Best Sales at morning \n",
            "RedBull      ฿28060.00\n",
            "Cappuccino    ฿4683.00\n",
            "Latte         ฿4595.50\n",
            "Muffin        ฿4550.00\n",
            "Croissant     ฿4200.00\n"
          ]
        }
      ],
      "source": [
        "#Print the Best sales\n",
        "if time_of_day == 'all day':\n",
        "    Best_Sales = df.groupby('product_name')['product_price'].sum().sort_values(ascending=False)\n",
        "else:\n",
        "    Best_Sales = df[df['time_of_the_day'] == time_of_day].groupby('product_name')['product_price'].sum().sort_values(ascending=False)\n",
        "print(f\"Best Sales at {time_of_day} \")\n",
        "print(Best_Sales.head().to_string(header=False, float_format=lambda x: '฿{:.2f}'.format(x)))"
      ]
    },
    {
      "cell_type": "code",
      "execution_count": null,
      "id": "961e4468",
      "metadata": {
        "id": "961e4468",
        "outputId": "c624c8c3-2f8e-40b6-a34e-c1954813122b"
      },
      "outputs": [
        {
          "name": "stdout",
          "output_type": "stream",
          "text": [
            "Recommended Product for Tea at morning\n",
            "Latte       25.95%\n",
            "Bagel       25.76%\n",
            "Espresso    23.57%\n",
            "Croissant   23.16%\n",
            "Coffee      22.91%\n"
          ]
        }
      ],
      "source": [
        "#Print the recommended products\n",
        "print(f\"Recommended Product for {product_recommend} at {time_of_day}\")\n",
        "print(recommended_products.head().to_string(header=False, float_format=lambda x: '{:.2%}'.format(x)))"
      ]
    },
    {
      "cell_type": "markdown",
      "id": "142faf25",
      "metadata": {
        "id": "142faf25"
      },
      "source": [
        "<h1>Second Model (GradientBoostingClassifier)</h1>"
      ]
    },
    {
      "cell_type": "code",
      "execution_count": null,
      "id": "e6829654",
      "metadata": {
        "id": "e6829654"
      },
      "outputs": [],
      "source": [
        "import pandas as pd\n",
        "from datetime import datetime\n",
        "from sklearn.model_selection import train_test_split\n",
        "from sklearn.ensemble import GradientBoostingClassifier\n",
        "from sklearn.metrics import classification_report"
      ]
    },
    {
      "cell_type": "code",
      "execution_count": null,
      "id": "73bf9dbf",
      "metadata": {
        "id": "73bf9dbf"
      },
      "outputs": [],
      "source": [
        "#filter df to only the column that have membership\n",
        "df = df[df['membership_start_date'] != 'no membership']\n",
        "#add month column by using the month of membership_start_date\n",
        "df['membership_start_date'] = pd.to_datetime(df['membership_start_date'])\n",
        "df['month'] = df['membership_start_date'].dt.month"
      ]
    },
    {
      "cell_type": "code",
      "execution_count": null,
      "id": "906677be",
      "metadata": {
        "id": "906677be"
      },
      "outputs": [],
      "source": [
        "#Convert transaction_date column to numerical features\n",
        "df['transaction_date'] = pd.to_datetime(df['transaction_date'])\n",
        "df['year'] = df['transaction_date'].dt.year\n",
        "df['month'] = df['transaction_date'].dt.month\n",
        "df['day'] = df['transaction_date'].dt.day\n",
        "df['hour'] = df['transaction_date'].dt.hour\n",
        "df['minute'] = df['transaction_date'].dt.minute\n",
        "df['second'] = df['transaction_date'].dt.second"
      ]
    },
    {
      "cell_type": "code",
      "execution_count": null,
      "id": "cb019d0c",
      "metadata": {
        "id": "cb019d0c"
      },
      "outputs": [],
      "source": [
        "#Drop original transaction_date and time_to_purchase columns\n",
        "df = df.drop(['transaction_date', 'time_to_purchase','membership_start_date','transaction_id'], axis=1)\n",
        "#convert categorical variables into numerical representations\n",
        "df = pd.get_dummies(df, columns=['gas_type', 'time_of_the_day'], drop_first=True)"
      ]
    },
    {
      "cell_type": "code",
      "execution_count": null,
      "id": "fa7db31b",
      "metadata": {
        "id": "fa7db31b"
      },
      "outputs": [],
      "source": [
        "#split the data into training and testing sets\n",
        "X = df.drop('product_name', axis=1)\n",
        "y = df['product_name']\n",
        "X_train, X_test, y_train, y_test = train_test_split(X, y, test_size=0.2, random_state=15)"
      ]
    },
    {
      "cell_type": "code",
      "execution_count": null,
      "id": "5f70b1a0",
      "metadata": {
        "id": "5f70b1a0",
        "outputId": "90e3fe45-2527-4670-d146-570888c0a51c"
      },
      "outputs": [
        {
          "name": "stdout",
          "output_type": "stream",
          "text": [
            "               precision    recall  f1-score   support\n",
            "\n",
            "        Bagel       0.09      0.06      0.07       209\n",
            "   Cappuccino       0.10      0.13      0.11       224\n",
            "       Coffee       0.11      0.05      0.07       242\n",
            "    Croissant       0.11      0.09      0.10       254\n",
            "     Espresso       0.12      0.12      0.12       219\n",
            "Hot Chocolate       0.12      0.11      0.12       115\n",
            "        Latte       0.11      0.09      0.10       252\n",
            "       Muffin       0.15      0.07      0.10       240\n",
            "      RedBull       0.68      1.00      0.81      1010\n",
            "          Tea       0.08      0.05      0.06       241\n",
            "\n",
            "     accuracy                           0.39      3006\n",
            "    macro avg       0.17      0.18      0.16      3006\n",
            " weighted avg       0.30      0.39      0.33      3006\n",
            "\n"
          ]
        }
      ],
      "source": [
        "#Train the model\n",
        "model = GradientBoostingClassifier()\n",
        "model.fit(X_train, y_train)\n",
        "predictions = model.predict(X_test)\n",
        "#Evaluate the model\n",
        "print(classification_report(y_test, predictions))"
      ]
    }
  ],
  "metadata": {
    "kernelspec": {
      "display_name": "Python 3",
      "language": "python",
      "name": "python3"
    },
    "language_info": {
      "codemirror_mode": {
        "name": "ipython",
        "version": 3
      },
      "file_extension": ".py",
      "mimetype": "text/x-python",
      "name": "python",
      "nbconvert_exporter": "python",
      "pygments_lexer": "ipython3",
      "version": "3.8.8"
    },
    "colab": {
      "provenance": []
    }
  },
  "nbformat": 4,
  "nbformat_minor": 5
}